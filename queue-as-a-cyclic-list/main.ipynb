{
 "cells": [
  {
   "cell_type": "markdown",
   "metadata": {},
   "source": [
    "Celem ćwiczenia jest wykorzystanie realokowalnej tablicy jako 'bazy' do stworzenia kolejki. Ze względu na to, że Python ma wbudowaną obsługę tablic dynamicznych i sam zarządza pamięcią, stworzenie w nim tablicy z 'ręczną' realokacją wymaga przyjęcia pewnych ograniczeń:\n",
    "- tablicę implementujemy jako listę o zadanym rozmiarze np:\n",
    "```  \n",
    "tab = [None for i in range(size)]\n",
    "```\n",
    "Poza tym wprowadzimy 'protezę' na funkcję realloc:<br><br>\n",
    "```\n",
    "def realloc(tab, size):   \n",
    "    oldSize = len(tab)   \n",
    "    return [tab[i] if i<oldSize else None  for i in range(size)]\n",
    "```\n",
    "\n",
    "Używając powyższych konstrukcji zaimplementuj kolejkę wykorzystując tablicę cykliczną.<br>\n",
    "Zdefiniuj klasę reprezentującą kolejkę.  Reprezentacja kolejki powinna zawierać pola przechowujące:  tablicę, jej aktualny rozmiar, indeks miejsca zapisu do kolejki i indeks miejsca odczytu z kolejki.<br>\n",
    "Następnie należy zaimplementować metody:\n",
    "* `konstruktor` tworzący pustą kolejkę - ALE ma tu powstać  5-cio elementowa tablica  (na razie pusta), rozmiar będzie ustawiony na 5 a oba indeksy na 0.\n",
    "* `is_empty` - zwracająca True jeżeli indeks miejsca odczytu jest równy indeksowi miejsca zapisu\n",
    "* `peek` - zwracająca daną z miejsca odczytu lub None dla pustej kolejki\n",
    "* `dequeue` - zwracająca None jeżeli kolejka jest pusta lub daną z miejsca odczytu (wtedy przed zwróceniem danej przesuwa się indeks miejsca odczytu o 1 z uwzględnieniem ewentualnego zapętlenia na końcu tablicy).\n",
    "* `enqueue` - otrzymująca dane do wstawienia do kolejki, po wstawieniu której należy przesunąć indeks miejsca zapisu o 1 z uwzględnieniem ewentualnego zapętlenia na końcu tablicy. Jeżeli po przesunięciu oba indeksy są takie same należy dwukrotnie powiększyć tablicę przez realokację oraz odpowiednio rozsunąć dane - wszystko od od miejsca 'spotkania' indeksów do 'starego' końca tablicy musi być przemieszczone na koniec powiększonej tablicy. Należy pamiętać o odpowiednim uaktualnieniu rozmiaru tablicy oraz indeksu miejsca odczytu.\n",
    "  \n",
    "W celach testowych przydatne  też będą funkcje/metody:  wypisująca tablicę (wypisująca standardową listę pythonową) i wypisująca kolejkę (w postaci takiej jak lista pythonowa, czyli ciąg wartości w nawiasach [ ]).\n",
    " \n",
    "W main-ie sprawdź działanie zaimplementowanej kolejki przez:\n",
    "* utworzenie pustej kolejki\n",
    "* użycie enqueue do wpisana do niej  4 danych - kolejnych liczb od 1 do 4,\n",
    "* użycie dequeue do odczytu pierwszej wpisanej danej i wypisanie jej\n",
    "* użycie  peek do odczytu drugiej  wpisanej danej i wypisanie jej\n",
    "* testowe wypisanie aktualnego stanu kolejki\n",
    "* użycie enqueue do wpisana do kolejki następnych 4 danych - kolejnych liczb od 5 do 8,\n",
    "* testowe wypisanie aktualnego stanu tablicy\n",
    "* opróżnienie kolejki z wypisaniem usuwanych danych (użycie dequeue w pętli dopóki w kolejce będą dane)\n",
    "* wypisanie kolejki (powinna być pusta)"
   ]
  },
  {
   "cell_type": "code",
   "execution_count": null,
   "metadata": {},
   "outputs": [],
   "source": []
  }
 ],
 "metadata": {
  "interpreter": {
   "hash": "079b0cf72313f4e483446a3077c27c389739ac4d6c581016a52ca60c8fa4498c"
  },
  "kernelspec": {
   "display_name": "Python 3.9.10 64-bit",
   "name": "python3"
  },
  "language_info": {
   "name": "python",
   "version": "3.9.10"
  },
  "orig_nbformat": 4
 },
 "nbformat": 4,
 "nbformat_minor": 2
}
